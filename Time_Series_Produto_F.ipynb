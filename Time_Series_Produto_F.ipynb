{
  "nbformat": 4,
  "nbformat_minor": 0,
  "metadata": {
    "colab": {
      "name": "Time Series Produto F",
      "provenance": [],
      "collapsed_sections": [],
      "authorship_tag": "ABX9TyPFKTR+cQgcc+te7slRBC8T",
      "include_colab_link": true
    },
    "kernelspec": {
      "name": "python3",
      "display_name": "Python 3"
    }
  },
  "cells": [
    {
      "cell_type": "markdown",
      "metadata": {
        "id": "view-in-github",
        "colab_type": "text"
      },
      "source": [
        "<a href=\"https://colab.research.google.com/github/andrecauss/causs_data_science/blob/master/Time_Series_Produto_F.ipynb\" target=\"_parent\"><img src=\"https://colab.research.google.com/assets/colab-badge.svg\" alt=\"Open In Colab\"/></a>"
      ]
    },
    {
      "cell_type": "code",
      "metadata": {
        "id": "ZrddsZeUT6Un",
        "colab_type": "code",
        "colab": {}
      },
      "source": [
        "# Libraries needed for the tutorial\n",
        "\n",
        "import pandas as pd\n",
        "import requests\n",
        "import io\n",
        "import numpy as np\n",
        "import matplotlib.pylab as plt\n",
        "%matplotlib inline\n",
        "from matplotlib.pylab import rcParams\n",
        "rcParams['figure.figsize'] = 25, 6\n",
        "\n",
        "# Username of your GitHub account\n",
        "\n",
        "username = 'andrecauss'\n",
        "\n",
        "# Personal Access Token (PAO) from your GitHub account\n",
        "\n",
        "token = '1072b428e6d6faaa5cc90a638bd8851cc0a6a833'\n",
        "\n",
        "# Creates a re-usable session object with your creds in-built\n",
        "\n",
        "github_session = requests.Session()\n",
        "github_session.auth = (username, token)\n",
        "    \n",
        "# Downloading the csv file from your GitHub\n",
        "\n",
        "url = \"https://raw.githubusercontent.com/andrecauss/causs_private_projects/master/vendas.csv?token=AGARLDBC7ZGHXCEZWFLR3GK64AQHC\" # Make sure the url is the raw version of the file on GitHub\n",
        "download = github_session.get(url).content\n",
        "\n",
        "# Reading the downloaded content and making it a pandas dataframe\n",
        "\n",
        "df = pd.read_csv(io.StringIO(download.decode('utf-8')))\n"
      ],
      "execution_count": 0,
      "outputs": []
    },
    {
      "cell_type": "code",
      "metadata": {
        "id": "-pErIb3l364g",
        "colab_type": "code",
        "colab": {}
      },
      "source": [
        "df.Data = pd.to_datetime(df.Data)"
      ],
      "execution_count": 0,
      "outputs": []
    },
    {
      "cell_type": "code",
      "metadata": {
        "id": "dN2dzdrT4Fgi",
        "colab_type": "code",
        "outputId": "1375738f-085e-4bf3-b58a-a0fdb6682007",
        "colab": {
          "base_uri": "https://localhost:8080/",
          "height": 102
        }
      },
      "source": [
        "df.dtypes"
      ],
      "execution_count": 0,
      "outputs": [
        {
          "output_type": "execute_result",
          "data": {
            "text/plain": [
              "Material              object\n",
              "Mês                   object\n",
              "Data          datetime64[ns]\n",
              "Quantidade             int64\n",
              "dtype: object"
            ]
          },
          "metadata": {
            "tags": []
          },
          "execution_count": 7
        }
      ]
    },
    {
      "cell_type": "code",
      "metadata": {
        "id": "oa8L3zMJ4SHY",
        "colab_type": "code",
        "colab": {}
      },
      "source": [
        "df.drop('Mês', axis=1, inplace=True)"
      ],
      "execution_count": 0,
      "outputs": []
    },
    {
      "cell_type": "code",
      "metadata": {
        "id": "QbzU5bm64Wpo",
        "colab_type": "code",
        "outputId": "a6e31792-cac4-49d7-966c-11581cc41ff8",
        "colab": {
          "base_uri": "https://localhost:8080/",
          "height": 85
        }
      },
      "source": [
        "df.dtypes"
      ],
      "execution_count": 0,
      "outputs": [
        {
          "output_type": "execute_result",
          "data": {
            "text/plain": [
              "Material              object\n",
              "Data          datetime64[ns]\n",
              "Quantidade             int64\n",
              "dtype: object"
            ]
          },
          "metadata": {
            "tags": []
          },
          "execution_count": 12
        }
      ]
    },
    {
      "cell_type": "code",
      "metadata": {
        "id": "hR5o4WHv4rk3",
        "colab_type": "code",
        "outputId": "e201a337-ea2d-4212-989d-e968a080b211",
        "colab": {
          "base_uri": "https://localhost:8080/",
          "height": 255
        }
      },
      "source": [
        "newdf = df.resample('M', on='Data').sum()\n",
        "\n",
        "newdf = newdf.loc[newdf.index >= '2019-06-01']\n",
        "\n",
        "print(newdf)"
      ],
      "execution_count": 0,
      "outputs": [
        {
          "output_type": "stream",
          "text": [
            "            Quantidade\n",
            "Data                  \n",
            "2019-06-30       44790\n",
            "2019-07-31       59970\n",
            "2019-08-31       50430\n",
            "2019-09-30       48870\n",
            "2019-10-31       56040\n",
            "2019-11-30       51810\n",
            "2019-12-31       72690\n",
            "2020-01-31       47160\n",
            "2020-02-29       43140\n",
            "2020-03-31       34470\n",
            "2020-04-30       11970\n",
            "2020-05-31       37470\n"
          ],
          "name": "stdout"
        }
      ]
    },
    {
      "cell_type": "code",
      "metadata": {
        "id": "eR4btjlm-EVh",
        "colab_type": "code",
        "outputId": "40dca25f-f79e-4544-e594-f4b544cb2fa3",
        "colab": {
          "base_uri": "https://localhost:8080/",
          "height": 211
        }
      },
      "source": [
        "newdf.plot(kind='box', vert=False, figsize=[15,3]);"
      ],
      "execution_count": 0,
      "outputs": [
        {
          "output_type": "display_data",
          "data": {
            "image/png": "[encoded data removed]",
            "text/plain": [
              "<Figure size 1080x216 with 1 Axes>"
            ]
          },
          "metadata": {
            "tags": [],
            "needs_background": "light"
          }
        }
      ]
    },
    {
      "cell_type": "code",
      "metadata": {
        "id": "doeBBSl8yLnw",
        "colab_type": "code",
        "colab": {}
      },
      "source": [
        ""
      ],
      "execution_count": 0,
      "outputs": []
    }
  ]
}